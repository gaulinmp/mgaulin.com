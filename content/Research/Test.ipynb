{
 "cells": [
  {
   "cell_type": "markdown",
   "metadata": {},
   "source": [
    "- title: Folium Plotting\n",
    "- author: Mac Gaulin\n",
    "- date: 2020-06-14\n",
    "- category: Blog\n",
    "- tags: python, visualization, notebooks"
   ]
  },
  {
   "cell_type": "markdown",
   "metadata": {},
   "source": [
    "This notebook is intended to do stuff."
   ]
  },
  {
   "cell_type": "markdown",
   "metadata": {},
   "source": [
    "## Installation"
   ]
  },
  {
   "cell_type": "markdown",
   "metadata": {},
   "source": [
    "Install folium, obviously.\n",
    "\n",
    "```bash\n",
    "   $ conda install folium\n",
    "```"
   ]
  },
  {
   "cell_type": "markdown",
   "metadata": {},
   "source": [
    "## Helper Code"
   ]
  },
  {
   "cell_type": "code",
   "execution_count": 9,
   "metadata": {},
   "outputs": [
    {
     "name": "stdout",
     "output_type": "stream",
     "text": [
      "0.11.0\n"
     ]
    }
   ],
   "source": [
    "import folium\n",
    "print(folium.__version__)"
   ]
  },
  {
   "cell_type": "code",
   "execution_count": null,
   "metadata": {},
   "outputs": [],
   "source": [
    "def geojson_str(df):\n",
    "    \"\"\"Get the geojson string representation of a GeoDataFrame.\"\"\"\n",
    "    with tempfile.NamedTemporaryFile() as fh:\n",
    "        df.to_file(fh, driver='GeoJSON')\n",
    "        fh.seek(0)\n",
    "        return fh.read().decode('utf-8')\n",
    "\n",
    "def GeoPandas(df, *args, **kwargs):\n",
    "    return folium.GeoJson(geojson_str(df), *args, **kwargs)\n",
    "\n",
    "try:\n",
    "    folium.GeoPandas = GeoPandas\n",
    "    print(\"Monkey patching folium.GeoPandas --> folium.GeoJson syntactic sugar\")\n",
    "except:\n",
    "    pass"
   ]
  },
  {
   "cell_type": "code",
   "execution_count": null,
   "metadata": {},
   "outputs": [],
   "source": [
    "def jsplot(*dfs, names=None, colors=None, zoom_start=9, save_name=None):\n",
    "    num = len(dfs)\n",
    "    if colors is None:\n",
    "        colors = ['yellow', 'blue', 'green', 'red', 'purple', 'cyan', 'orange'][:len(dfs)]\n",
    "    if names is None:\n",
    "        names = [f'layer{i}' for i in range(num)]\n",
    "\n",
    "    _b = dfs[0].total_bounds\n",
    "    cen = (sum(_b[1::2])/2, sum(_b[::2])/2)\n",
    "\n",
    "    m = folium.Map(location=cen, zoom_start=zoom_start)\n",
    "\n",
    "    for i,df in enumerate(dfs):\n",
    "        folium.GeoPandas(\n",
    "            df,\n",
    "            # Yooooooo..... late binding closures got me!\n",
    "            # Solution shout-out: https://docs.python-guide.org/writing/gotchas/#id4\n",
    "            style_function=lambda x,i=i: {'color':colors[i], 'width':3, 'fillColor': colors[i], 'fillOpacity':.1},\n",
    "            name=names[i]\n",
    "        ).add_to(m)\n",
    "\n",
    "    folium.LayerControl().add_to(m)\n",
    "\n",
    "    if save_name is not None:\n",
    "        m.save(MAP_DIR(f'{save_name}.html'))\n",
    "    else:\n",
    "        return ma"
   ]
  },
  {
   "cell_type": "markdown",
   "metadata": {},
   "source": [
    "## Application"
   ]
  },
  {
   "cell_type": "code",
   "execution_count": null,
   "metadata": {},
   "outputs": [],
   "source": []
  }
 ],
 "metadata": {
  "kernelspec": {
   "display_name": "Python 3",
   "language": "python",
   "name": "python3"
  },
  "language_info": {
   "codemirror_mode": {
    "name": "ipython",
    "version": 3
   },
   "file_extension": ".py",
   "mimetype": "text/x-python",
   "name": "python",
   "nbconvert_exporter": "python",
   "pygments_lexer": "ipython3",
   "version": "3.6.10"
  }
 },
 "nbformat": 4,
 "nbformat_minor": 4
}
